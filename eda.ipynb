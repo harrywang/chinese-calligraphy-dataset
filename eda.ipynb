{
 "cells": [
  {
   "cell_type": "code",
   "execution_count": 22,
   "metadata": {
    "ExecuteTime": {
     "end_time": "2020-09-28T08:37:58.148175Z",
     "start_time": "2020-09-28T08:37:58.138175Z"
    }
   },
   "outputs": [],
   "source": [
    "import matplotlib.pyplot as plt\n",
    "import os\n",
    "import glob\n",
    "import pathlib\n",
    "from PIL import Image"
   ]
  },
  {
   "cell_type": "code",
   "execution_count": 3,
   "metadata": {
    "ExecuteTime": {
     "end_time": "2020-09-28T08:03:57.833646Z",
     "start_time": "2020-09-28T08:03:57.822678Z"
    }
   },
   "outputs": [],
   "source": [
    "data_dir = './data/character/'\n",
    "character_csv = './data/label_character.csv'"
   ]
  },
  {
   "cell_type": "code",
   "execution_count": 7,
   "metadata": {
    "ExecuteTime": {
     "end_time": "2020-09-28T08:07:11.039955Z",
     "start_time": "2020-09-28T08:07:08.444094Z"
    }
   },
   "outputs": [],
   "source": [
    "images_list = glob.glob(str(pathlib.Path(data_dir)/'**/*.jpg'), recursive=True)\n",
    "\n",
    "characters = {}\n",
    "f = open(character_csv, 'r', encoding='utf-8')\n",
    "for line in f.readlines():\n",
    "    characters[line.split(',')[0]] = int(line.split(',')[1])"
   ]
  },
  {
   "cell_type": "code",
   "execution_count": 8,
   "metadata": {
    "ExecuteTime": {
     "end_time": "2020-09-28T08:07:27.650649Z",
     "start_time": "2020-09-28T08:07:27.640644Z"
    }
   },
   "outputs": [
    {
     "name": "stdout",
     "output_type": "stream",
     "text": [
      "Total number of images: 138499\n",
      "Total number of characters: 7328\n"
     ]
    }
   ],
   "source": [
    "print('Total number of images: %d' % len(images_list))\n",
    "print('Total number of characters: %d' % len(characters))"
   ]
  },
  {
   "cell_type": "code",
   "execution_count": 14,
   "metadata": {
    "ExecuteTime": {
     "end_time": "2020-09-28T08:25:22.407049Z",
     "start_time": "2020-09-28T08:25:21.976570Z"
    }
   },
   "outputs": [
    {
     "data": {
      "image/png": "[encoded data removed]",
      "text/plain": [
       "<Figure size 432x288 with 1 Axes>"
      ]
     },
     "metadata": {
      "needs_background": "light"
     },
     "output_type": "display_data"
    }
   ],
   "source": [
    "character_number = {}\n",
    "for item in characters.keys():\n",
    "    character_number[item] = 0\n",
    "    \n",
    "for idx, file_path in enumerate(images_list):\n",
    "    temp_char = file_path.split(os.sep)[-2]\n",
    "    character_number[temp_char] +=1\n",
    "    \n",
    "plt.figure()\n",
    "plt.title('Distribution of the number of images owned by each character')\n",
    "plt.hist(list(character_number.values()), bins=150)\n",
    "plt.xlabel('number of images')\n",
    "plt.ylabel('number of characters')\n",
    "plt.show()"
   ]
  },
  {
   "cell_type": "code",
   "execution_count": 37,
   "metadata": {
    "ExecuteTime": {
     "end_time": "2020-09-28T09:11:30.115803Z",
     "start_time": "2020-09-28T09:11:30.099245Z"
    }
   },
   "outputs": [
    {
     "name": "stdout",
     "output_type": "stream",
     "text": [
      "Characters with more than 60 images: 6\n",
      "Characters with more than 50 images: 33\n",
      "Characters with more than 40 images: 150\n",
      "Characters with more than 30 images: 609\n",
      "Characters with more than 20 images: 3654\n"
     ]
    }
   ],
   "source": [
    "more_than_20 = 0\n",
    "more_than_30 = 0\n",
    "more_than_40 = 0\n",
    "more_than_50 = 0\n",
    "more_than_60 = 0\n",
    "\n",
    "for item in character_number.values():\n",
    "    if item >= 60:\n",
    "        more_than_60 += 1\n",
    "    if item >= 50:\n",
    "        more_than_50 += 1\n",
    "    if item >= 40:\n",
    "        more_than_40 += 1\n",
    "    if item >= 30:\n",
    "        more_than_30 += 1\n",
    "    if item >= 20:\n",
    "        more_than_20 += 1\n",
    "\n",
    "print('Characters with more than 60 images: %d' % more_than_60)\n",
    "print('Characters with more than 50 images: %d' % more_than_50)\n",
    "print('Characters with more than 40 images: %d' % more_than_40)\n",
    "print('Characters with more than 30 images: %d' % more_than_30)\n",
    "print('Characters with more than 20 images: %d' % more_than_20)"
   ]
  },
  {
   "cell_type": "code",
   "execution_count": 27,
   "metadata": {
    "ExecuteTime": {
     "end_time": "2020-09-28T08:50:54.567295Z",
     "start_time": "2020-09-28T08:40:43.881199Z"
    }
   },
   "outputs": [],
   "source": [
    "image_height = {}\n",
    "image_width = {}\n",
    "\n",
    "for item in images_list:\n",
    "    img = Image.open(item)\n",
    "    height, width = img.size\n",
    "    \n",
    "    if height in image_height.keys():\n",
    "        image_height[height] += 1\n",
    "    else:\n",
    "        image_height[height] = 0\n",
    "    \n",
    "    if width in image_width.keys():\n",
    "        image_width[width] += 1\n",
    "    else:\n",
    "        image_width[width] = 0"
   ]
  },
  {
   "cell_type": "code",
   "execution_count": 36,
   "metadata": {
    "ExecuteTime": {
     "end_time": "2020-09-28T08:59:13.630789Z",
     "start_time": "2020-09-28T08:59:13.415740Z"
    }
   },
   "outputs": [
    {
     "data": {
      "image/png": "[encoded data removed]",
      "text/plain": [
       "<Figure size 864x432 with 2 Axes>"
      ]
     },
     "metadata": {
      "needs_background": "light"
     },
     "output_type": "display_data"
    }
   ],
   "source": [
    "plt.figure(figsize=(12, 6))\n",
    "\n",
    "plt.subplot(1, 2, 1)\n",
    "plt.title('Distribution of the height of images')\n",
    "plt.scatter(list(image_height.keys()), list(image_height.values()))\n",
    "plt.xlabel('height')\n",
    "plt.ylabel('number of images')\n",
    "\n",
    "plt.subplot(1, 2, 2)\n",
    "plt.title('Distribution of the width of images')\n",
    "plt.scatter(list(image_width.keys()), list(image_width.values()))\n",
    "plt.xlabel('width')\n",
    "plt.ylabel('number of images')\n",
    "\n",
    "plt.show()"
   ]
  },
  {
   "cell_type": "code",
   "execution_count": null,
   "metadata": {},
   "outputs": [],
   "source": []
  }
 ],
 "metadata": {
  "kernelspec": {
   "display_name": "Python 3",
   "language": "python",
   "name": "python3"
  },
  "language_info": {
   "codemirror_mode": {
    "name": "ipython",
    "version": 3
   },
   "file_extension": ".py",
   "mimetype": "text/x-python",
   "name": "python",
   "nbconvert_exporter": "python",
   "pygments_lexer": "ipython3",
   "version": "3.6.12"
  },
  "toc": {
   "base_numbering": 1,
   "nav_menu": {},
   "number_sections": true,
   "sideBar": true,
   "skip_h1_title": false,
   "title_cell": "Table of Contents",
   "title_sidebar": "Contents",
   "toc_cell": false,
   "toc_position": {},
   "toc_section_display": true,
   "toc_window_display": false
  },
  "varInspector": {
   "cols": {
    "lenName": 16,
    "lenType": 16,
    "lenVar": 40
   },
   "kernels_config": {
    "python": {
     "delete_cmd_postfix": "",
     "delete_cmd_prefix": "del ",
     "library": "var_list.py",
     "varRefreshCmd": "print(var_dic_list())"
    },
    "r": {
     "delete_cmd_postfix": ") ",
     "delete_cmd_prefix": "rm(",
     "library": "var_list.r",
     "varRefreshCmd": "cat(var_dic_list()) "
    }
   },
   "types_to_exclude": [
    "module",
    "function",
    "builtin_function_or_method",
    "instance",
    "_Feature"
   ],
   "window_display": false
  }
 },
 "nbformat": 4,
 "nbformat_minor": 4
}
